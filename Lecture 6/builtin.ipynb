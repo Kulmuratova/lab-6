{
 "cells": [
  {
   "cell_type": "code",
   "execution_count": 4,
   "id": "0e437e98-1d89-461d-9731-2f577473284d",
   "metadata": {},
   "outputs": [
    {
     "name": "stdin",
     "output_type": "stream",
     "text": [
      " 1 2 3 4 \n"
     ]
    },
    {
     "name": "stdout",
     "output_type": "stream",
     "text": [
      "24\n"
     ]
    }
   ],
   "source": [
    "import math\n",
    "def myfunction():\n",
    "    mylist=list(map(int,input().split()))\n",
    "    y=math.prod(mylist)\n",
    "    print(y)\n",
    "\n",
    "myfunction()"
   ]
  },
  {
   "cell_type": "code",
   "execution_count": 8,
   "id": "da56a1b0-6f8b-4795-8edf-44f8eda77c3f",
   "metadata": {},
   "outputs": [
    {
     "name": "stdin",
     "output_type": "stream",
     "text": [
      " HeLLo\n"
     ]
    },
    {
     "name": "stdout",
     "output_type": "stream",
     "text": [
      "3\n",
      "2\n"
     ]
    }
   ],
   "source": [
    "def myfunction():\n",
    "    mytext = input()\n",
    "    upper = 0\n",
    "    lower = 0\n",
    "    for i in range(len(mytext)):\n",
    "        if (mytext[i].isupper()):\n",
    "            upper+=1\n",
    "        else:\n",
    "            lower+=1\n",
    "    print(upper)\n",
    "    print(lower)\n",
    "\n",
    "myfunction()"
   ]
  },
  {
   "cell_type": "code",
   "execution_count": 10,
   "id": "55a745ec-9cb7-449d-af83-d748031ad537",
   "metadata": {},
   "outputs": [
    {
     "name": "stdin",
     "output_type": "stream",
     "text": [
      " madam\n"
     ]
    },
    {
     "name": "stdout",
     "output_type": "stream",
     "text": [
      "palindrome\n"
     ]
    }
   ],
   "source": [
    "def myfunction():\n",
    "    mytext = input()\n",
    "    if mytext == mytext[::-1]:\n",
    "        print(\"palindrome\")\n",
    "    else:\n",
    "        print(\"not palindrome\")\n",
    "myfunction()"
   ]
  },
  {
   "cell_type": "code",
   "execution_count": 14,
   "id": "9fee2ada-c0df-483b-af79-0d5124169f4d",
   "metadata": {},
   "outputs": [
    {
     "name": "stdin",
     "output_type": "stream",
     "text": [
      " 25100 \n",
      " 2123\n"
     ]
    },
    {
     "name": "stdout",
     "output_type": "stream",
     "text": [
      "Square root of 25100 after 2123 milliseconds is 158.42979517754858\n"
     ]
    }
   ],
   "source": [
    "import time\n",
    "import math\n",
    "num = int(input()) \n",
    "delay = int(input()) \n",
    "time.sleep(delay / 1000)\n",
    "result = math.sqrt(num)\n",
    "print(f\"Square root of {num} after {delay} milliseconds is {result}\")"
   ]
  },
  {
   "cell_type": "code",
   "execution_count": 18,
   "id": "c809b54f-228c-494d-83a2-60cb489becc1",
   "metadata": {},
   "outputs": [
    {
     "name": "stdout",
     "output_type": "stream",
     "text": [
      "True\n"
     ]
    }
   ],
   "source": [
    "def myfunc():\n",
    "    a = (1, True, \"Hello\", 3.5) \n",
    "    result = all(a)\n",
    "    print(result)\n",
    "myfunc()"
   ]
  },
  {
   "cell_type": "code",
   "execution_count": null,
   "id": "964218cf-2c39-4270-a3f3-280843ea2b08",
   "metadata": {},
   "outputs": [],
   "source": []
  }
 ],
 "metadata": {
  "kernelspec": {
   "display_name": "Python [conda env:base] *",
   "language": "python",
   "name": "conda-base-py"
  },
  "language_info": {
   "codemirror_mode": {
    "name": "ipython",
    "version": 3
   },
   "file_extension": ".py",
   "mimetype": "text/x-python",
   "name": "python",
   "nbconvert_exporter": "python",
   "pygments_lexer": "ipython3",
   "version": "3.12.7"
  }
 },
 "nbformat": 4,
 "nbformat_minor": 5
}
