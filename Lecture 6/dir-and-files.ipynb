{
 "cells": [
  {
   "cell_type": "code",
   "execution_count": 26,
   "id": "ec5d48f1-aa26-44f7-8dbb-4196d10694e5",
   "metadata": {},
   "outputs": [
    {
     "name": "stdin",
     "output_type": "stream",
     "text": [
      " /Users/albina\n"
     ]
    },
    {
     "name": "stdout",
     "output_type": "stream",
     "text": [
      "Directories:\n",
      ".config\n",
      "Music\n",
      "anaconda_projects\n",
      "Pictures\n",
      ".ipython\n",
      "Desktop\n",
      "Library\n",
      "Public\n",
      ".anaconda\n",
      "Movies\n",
      ".Trash\n",
      ".jupyter\n",
      "Documents\n",
      ".vscode\n",
      "Downloads\n",
      ".continuum\n",
      ".zsh_sessions\n",
      ".conda\n",
      "\n",
      "Files:\n",
      ".condarc\n",
      ".DS_Store\n",
      ".CFUserTextEncoding\n",
      ".xonshrc\n",
      ".zshrc\n",
      ".zsh_history\n",
      ".tcshrc\n",
      ".bash_profile\n",
      "\n",
      "All directories and files:\n",
      ".config\n",
      "Music\n",
      ".condarc\n",
      ".DS_Store\n",
      ".CFUserTextEncoding\n",
      ".xonshrc\n",
      "anaconda_projects\n",
      ".zshrc\n",
      "Pictures\n",
      ".zsh_history\n",
      ".ipython\n",
      "Desktop\n",
      "Library\n",
      "Public\n",
      ".tcshrc\n",
      ".anaconda\n",
      "Movies\n",
      ".Trash\n",
      ".jupyter\n",
      "Documents\n",
      ".vscode\n",
      ".bash_profile\n",
      "Downloads\n",
      ".continuum\n",
      ".zsh_sessions\n",
      ".conda\n"
     ]
    }
   ],
   "source": [
    "import os\n",
    "\n",
    "def directories(path):\n",
    "    try:\n",
    "        items = os.listdir(path)\n",
    "        directory = []\n",
    "        for i in items:\n",
    "            each_path = os.path.join(path, i)\n",
    "            if os.path.isdir(each_path):\n",
    "                directory.append(i)\n",
    "        print(\"Directories:\")\n",
    "        for i in directory:\n",
    "            print(i)\n",
    "    except FileNotFoundError:\n",
    "        print(\"Error\")\n",
    "\n",
    "def files(path):\n",
    "    try:\n",
    "        items = os.listdir(path)\n",
    "        files = []\n",
    "        for i in items:\n",
    "            each_path = os.path.join(path, i)\n",
    "            if os.path.isfile(each_path):\n",
    "                files.append(i)\n",
    "        print(\"\\nFiles:\")\n",
    "        for file in files:\n",
    "            print(file)\n",
    "    except FileNotFoundError:\n",
    "        print(\"Error\")\n",
    "\n",
    "def list_all(path):\n",
    "    try:\n",
    "        items = os.listdir(path)\n",
    "        print(\"\\nAll directories and files:\")\n",
    "        for i in items:\n",
    "            print(i)\n",
    "    except FileNotFoundError:\n",
    "        print(\"Error\")\n",
    "\n",
    "path = input()\n",
    "\n",
    "directories(path)\n",
    "files(path)\n",
    "list_all(path)"
   ]
  },
  {
   "cell_type": "code",
   "execution_count": 28,
   "id": "5ef6df4d-178d-438f-a43b-4b2ae2a0392b",
   "metadata": {},
   "outputs": [
    {
     "name": "stdin",
     "output_type": "stream",
     "text": [
      " /Users/albina\n"
     ]
    },
    {
     "name": "stdout",
     "output_type": "stream",
     "text": [
      "Path exists.\n",
      "Path is readable.\n",
      "Path is writable.\n",
      "Path is executable.\n"
     ]
    }
   ],
   "source": [
    "import os\n",
    "def checking(path):\n",
    "    if os.path.exists(path):\n",
    "        print(\"Path exists.\")\n",
    "    else:\n",
    "        print(\"Path does NOT exist.\")\n",
    "        return \n",
    "    \n",
    "    if os.access(path, os.R_OK):\n",
    "        print(\"Path is readable.\")\n",
    "    else:\n",
    "        print(\"Path is NOT readable.\")\n",
    "\n",
    "    if os.access(path, os.W_OK):\n",
    "        print(\"Path is writable.\")\n",
    "    else:\n",
    "        print(\"Path is NOT writable.\")\n",
    "\n",
    "    if os.access(path, os.X_OK):\n",
    "        print(\"Path is executable.\")\n",
    "    else:\n",
    "        print(\"Path is NOT executable.\")\n",
    "        \n",
    "path = input()\n",
    "checking(path)"
   ]
  },
  {
   "cell_type": "code",
   "execution_count": 34,
   "id": "49eb796f-33ed-4783-becd-f9ba2ce63d55",
   "metadata": {},
   "outputs": [
    {
     "name": "stdin",
     "output_type": "stream",
     "text": [
      " /Users/albina\n"
     ]
    },
    {
     "name": "stdout",
     "output_type": "stream",
     "text": [
      "Path exists: /Users/albina.\n",
      "directory: /Users\n",
      "filename: albina\n"
     ]
    }
   ],
   "source": [
    "import os\n",
    "def checking(path):\n",
    "    if os.path.exists(path):\n",
    "        print(f\"Path exists: {path}.\")\n",
    "        directory = os.path.dirname(path)\n",
    "        print(f\"directory: {directory}\")\n",
    "        filename = os.path.basename(path)\n",
    "        print(f\"filename: {filename}\")\n",
    "    else:\n",
    "        print(\"Path doesn't exist.\")\n",
    "path = input()\n",
    "checking(path)"
   ]
  },
  {
   "cell_type": "code",
   "execution_count": 19,
   "id": "f5920bb3-e7fb-4241-9d68-f8416f129561",
   "metadata": {},
   "outputs": [
    {
     "name": "stdin",
     "output_type": "stream",
     "text": [
      " /Users/albina/Desktop/ҚТ\\ 1-СРС\\ VI-XII\\ ғ.\\ түрік\\ мемлекеттері\\ \\(2\\).docx \n"
     ]
    },
    {
     "name": "stdout",
     "output_type": "stream",
     "text": [
      "The file does not exist.\n"
     ]
    }
   ],
   "source": [
    "def count(filename):\n",
    "    try:\n",
    "        file = open(filename, 'r')\n",
    "        line_count = 0 \n",
    "        for line in file: \n",
    "            line_count += 1\n",
    "        file.close()\n",
    "        print(f\"{line_count} lines.\")\n",
    "\n",
    "    except FileNotFoundError:\n",
    "        print(\"The file does not exist.\")\n",
    "        \n",
    "filename = input()\n",
    "count(filename)"
   ]
  },
  {
   "cell_type": "code",
   "execution_count": 29,
   "id": "ace4b73d-71ca-4090-9dfc-12931a971904",
   "metadata": {},
   "outputs": [
    {
     "name": "stdout",
     "output_type": "stream",
     "text": [
      "List has been written to fruits.txt\n"
     ]
    }
   ],
   "source": [
    "def list_file(filename, data_list):\n",
    "    try:\n",
    "        file = open(filename, 'w')  \n",
    "        for i in data_list:\n",
    "            file.write(i + \"\\n\")  \n",
    "        file.close()  \n",
    "        print(f\"List has been written to {filename}\")\n",
    "    except Exception as e:\n",
    "        print(f\"Error: {e}\")\n",
    "\n",
    "my_list = [\"Apple\", \"Banana\", \"Cherry\", \"Date\", \"Elderberry\"]\n",
    "filename = \"fruits.txt\"\n",
    "list_file(filename, my_list)"
   ]
  },
  {
   "cell_type": "code",
   "execution_count": 33,
   "id": "1e80c9d3-37fa-4d37-884e-fd7ab3b95d13",
   "metadata": {},
   "outputs": [
    {
     "name": "stdout",
     "output_type": "stream",
     "text": [
      "Created: A.txt\n",
      "Created: B.txt\n",
      "Created: C.txt\n",
      "Created: D.txt\n",
      "Created: E.txt\n",
      "Created: F.txt\n",
      "Created: G.txt\n",
      "Created: H.txt\n",
      "Created: I.txt\n",
      "Created: J.txt\n",
      "Created: K.txt\n",
      "Created: L.txt\n",
      "Created: M.txt\n",
      "Created: N.txt\n",
      "Created: O.txt\n",
      "Created: P.txt\n",
      "Created: Q.txt\n",
      "Created: R.txt\n",
      "Created: S.txt\n",
      "Created: T.txt\n",
      "Created: U.txt\n",
      "Created: V.txt\n",
      "Created: W.txt\n",
      "Created: X.txt\n",
      "Created: Y.txt\n",
      "Created: Z.txt\n"
     ]
    }
   ],
   "source": [
    "import string\n",
    "for letter in string.ascii_uppercase:\n",
    "    file = open(f\"{letter}.txt\", \"w\")\n",
    "    file.write(f\"This is file {letter}.txt\\n\") \n",
    "    file.close() \n",
    "    print(f\"Created: {letter}.txt\")\n"
   ]
  },
  {
   "cell_type": "code",
   "execution_count": 45,
   "id": "47ebc9d0-a80d-4aac-b42c-35221ee02e90",
   "metadata": {},
   "outputs": [
    {
     "name": "stdout",
     "output_type": "stream",
     "text": [
      "Hello, kbtu!\n"
     ]
    }
   ],
   "source": [
    "a = open(\"copy.txt\", \"r\")  \n",
    "b = open(\"dublicate.txt\", \"w\")  \n",
    "b.write(a.read())  \n",
    "a.close()  \n",
    "b.close()  \n",
    "b = open(\"dublicate.txt\", \"r\")  \n",
    "print(b.read())  \n",
    "b.close()"
   ]
  },
  {
   "cell_type": "code",
   "execution_count": 58,
   "id": "796943e6-e844-40ba-a193-af424dc7f9fb",
   "metadata": {},
   "outputs": [
    {
     "name": "stdout",
     "output_type": "stream",
     "text": [
      "File '/Users/albina/Desktop/ҚТ 1-СРС VI-XII ғ. түрік мемлекеттері (2).docx' has been deleted.\n"
     ]
    }
   ],
   "source": [
    "import os\n",
    "file_path = r\"/Users/albina/Desktop/ҚТ 1-СРС VI-XII ғ. түрік мемлекеттері (2).docx\"\n",
    "if os.path.exists(file_path):\n",
    "    if os.access(file_path, os.W_OK):\n",
    "        os.remove(file_path) \n",
    "        print(f\"File '{file_path}' has been deleted.\")\n",
    "    else:\n",
    "        print(f\"Error: No write access to '{file_path}'.\")\n",
    "else:\n",
    "    print(f\"Error: The file '{file_path}' does not exist.\")\n"
   ]
  },
  {
   "cell_type": "code",
   "execution_count": null,
   "id": "1343032e-5a95-40ad-bac3-f42d9717706f",
   "metadata": {},
   "outputs": [],
   "source": []
  },
  {
   "cell_type": "code",
   "execution_count": null,
   "id": "c2528a92-8fd3-478f-b357-1e218dc23c9b",
   "metadata": {},
   "outputs": [],
   "source": []
  }
 ],
 "metadata": {
  "kernelspec": {
   "display_name": "Python [conda env:base] *",
   "language": "python",
   "name": "conda-base-py"
  },
  "language_info": {
   "codemirror_mode": {
    "name": "ipython",
    "version": 3
   },
   "file_extension": ".py",
   "mimetype": "text/x-python",
   "name": "python",
   "nbconvert_exporter": "python",
   "pygments_lexer": "ipython3",
   "version": "3.12.7"
  }
 },
 "nbformat": 4,
 "nbformat_minor": 5
}
